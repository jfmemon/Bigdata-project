{
  "cells": [
    {
      "cell_type": "code",
      "execution_count": 24,
      "metadata": {
        "colab": {
          "base_uri": "https://localhost:8080/"
        },
        "id": "qlAzi9tCMbQ5",
        "outputId": "6af1a41a-e216-4caa-c269-25be0eb1baf5"
      },
      "outputs": [
        {
          "output_type": "stream",
          "name": "stdout",
          "text": [
            "\r0% [Working]\r            \rGet:1 http://security.ubuntu.com/ubuntu bionic-security InRelease [88.7 kB]\n",
            "Hit:2 https://cloud.r-project.org/bin/linux/ubuntu bionic-cran40/ InRelease\n",
            "Ign:3 https://developer.download.nvidia.com/compute/machine-learning/repos/ubuntu1804/x86_64  InRelease\n",
            "Hit:4 https://developer.download.nvidia.com/compute/cuda/repos/ubuntu1804/x86_64  InRelease\n",
            "Hit:5 http://ppa.launchpad.net/c2d4u.team/c2d4u4.0+/ubuntu bionic InRelease\n",
            "Hit:6 https://developer.download.nvidia.com/compute/machine-learning/repos/ubuntu1804/x86_64  Release\n",
            "Hit:7 http://archive.ubuntu.com/ubuntu bionic InRelease\n",
            "Get:8 http://archive.ubuntu.com/ubuntu bionic-updates InRelease [88.7 kB]\n",
            "Hit:9 http://ppa.launchpad.net/cran/libgit2/ubuntu bionic InRelease\n",
            "Hit:10 http://ppa.launchpad.net/deadsnakes/ppa/ubuntu bionic InRelease\n",
            "Get:11 http://security.ubuntu.com/ubuntu bionic-security/universe amd64 Packages [1,567 kB]\n",
            "Get:12 http://archive.ubuntu.com/ubuntu bionic-backports InRelease [83.3 kB]\n",
            "Hit:13 http://ppa.launchpad.net/graphics-drivers/ppa/ubuntu bionic InRelease\n",
            "Fetched 1,828 kB in 3s (655 kB/s)\n",
            "Reading package lists... Done\n"
          ]
        }
      ],
      "source": [
        "!apt-get update             #for update full system to avoid any query"
      ]
    },
    {
      "cell_type": "code",
      "execution_count": 25,
      "metadata": {
        "id": "vfL3JqLENCpo"
      },
      "outputs": [],
      "source": [
        "!apt-get install openjdk-8-jdk-headless -qq > /dev/null         #jvm version-8 install"
      ]
    },
    {
      "cell_type": "code",
      "execution_count": 26,
      "metadata": {
        "id": "5a-LGrIeNC3O"
      },
      "outputs": [],
      "source": [
        " !wget -q http://archive.apache.org/dist/spark/spark-3.1.1/spark-3.1.1-bin-hadoop3.2.tgz         #for apache spark with Hadoop install"
      ]
    },
    {
      "cell_type": "code",
      "execution_count": 27,
      "metadata": {
        "id": "L8o1GJRmNDre"
      },
      "outputs": [],
      "source": [
        "!tar xf spark-3.1.1-bin-hadoop3.2.tgz           #for extract the file which was with Hadoop"
      ]
    },
    {
      "cell_type": "code",
      "execution_count": 28,
      "metadata": {
        "id": "otZi6A4yNDuA"
      },
      "outputs": [],
      "source": [
        "!pip install -q findspark             #for install findspark module"
      ]
    },
    {
      "cell_type": "code",
      "execution_count": 29,
      "metadata": {
        "id": "-yLSNmDcOgkf"
      },
      "outputs": [],
      "source": [
        "import os\n",
        "os.environ[\"JAVA_HOME\"] = \"/usr/lib/jvm/java-8-openjdk-amd64\"\n",
        "os.environ[\"SPARK_HOME\"] = \"/content/spark-3.1.1-bin-hadoop3.2\"\n",
        "\n",
        "#environment setup for Java & Spark )"
      ]
    },
    {
      "cell_type": "code",
      "execution_count": 30,
      "metadata": {
        "colab": {
          "base_uri": "https://localhost:8080/",
          "height": 219
        },
        "id": "NYWvAijAOgn0",
        "outputId": "50bdd4d6-95ab-4456-becc-c194d69fbc6c"
      },
      "outputs": [
        {
          "output_type": "execute_result",
          "data": {
            "text/plain": [
              "<pyspark.sql.session.SparkSession at 0x7ff77417dd90>"
            ],
            "text/html": [
              "\n",
              "            <div>\n",
              "                <p><b>SparkSession - in-memory</b></p>\n",
              "                \n",
              "        <div>\n",
              "            <p><b>SparkContext</b></p>\n",
              "\n",
              "            <p><a href=\"http://cdbe130546fc:4040\">Spark UI</a></p>\n",
              "\n",
              "            <dl>\n",
              "              <dt>Version</dt>\n",
              "                <dd><code>v3.1.1</code></dd>\n",
              "              <dt>Master</dt>\n",
              "                <dd><code>local</code></dd>\n",
              "              <dt>AppName</dt>\n",
              "                <dd><code>pyspark-shell</code></dd>\n",
              "            </dl>\n",
              "        </div>\n",
              "        \n",
              "            </div>\n",
              "        "
            ]
          },
          "metadata": {},
          "execution_count": 30
        }
      ],
      "source": [
        "import findspark\n",
        "findspark.init()\n",
        "from pyspark.sql import SparkSession\n",
        "from pyspark.sql import functions as F\n",
        "spark = SparkSession.builder.master(\"local\").getOrCreate()\n",
        "spark   #just for showing version,master_name, app_name etc \n",
        "\n",
        "#get(jodi thake) or create spark session for doing action with dataset, erpor dataset load kora charao aro anushongik kaj kora jabe"
      ]
    },
    {
      "cell_type": "code",
      "execution_count": 31,
      "metadata": {
        "colab": {
          "base_uri": "https://localhost:8080/"
        },
        "id": "KcWw7ef3Ogqm",
        "outputId": "3bf1eeda-c9ab-4678-a723-6f0d14aa790f"
      },
      "outputs": [
        {
          "output_type": "stream",
          "name": "stdout",
          "text": [
            "--2022-12-06 18:04:39--  https://raw.githubusercontent.com/jfmemon/Bigdata-project/main/world_population.csv\n",
            "Resolving raw.githubusercontent.com (raw.githubusercontent.com)... 185.199.108.133, 185.199.109.133, 185.199.110.133, ...\n",
            "Connecting to raw.githubusercontent.com (raw.githubusercontent.com)|185.199.108.133|:443... connected.\n",
            "HTTP request sent, awaiting response... 200 OK\n",
            "Length: 29237 (29K) [text/plain]\n",
            "Saving to: ‘world_population.csv.1’\n",
            "\n",
            "\rworld_population.cs   0%[                    ]       0  --.-KB/s               \rworld_population.cs 100%[===================>]  28.55K  --.-KB/s    in 0.002s  \n",
            "\n",
            "2022-12-06 18:04:39 (16.9 MB/s) - ‘world_population.csv.1’ saved [29237/29237]\n",
            "\n"
          ]
        }
      ],
      "source": [
        "!wget https://raw.githubusercontent.com/jfmemon/Bigdata-project/main/world_population.csv      #dataset raw link of github"
      ]
    },
    {
      "cell_type": "code",
      "execution_count": 32,
      "metadata": {
        "id": "DUthd07gOgtU"
      },
      "outputs": [],
      "source": [
        "df = spark.read.csv(\"world_population.csv\", sep=\",\", header = True, inferSchema=True)\n",
        "\n",
        "#read downloaded csv file and put into variable df, header = True mane holo- jate 1st row take data na baniye header banay , inferSchema = True mane holo- jokhon columns type dekhte cabo tokhon exact type show korbe "
      ]
    },
    {
      "cell_type": "code",
      "execution_count": 33,
      "metadata": {
        "colab": {
          "base_uri": "https://localhost:8080/"
        },
        "id": "ElJmHro8Ogv1",
        "outputId": "7cc97c95-f88f-444f-d3dc-f4dd198e1802"
      },
      "outputs": [
        {
          "output_type": "stream",
          "name": "stdout",
          "text": [
            "+----+----+--------------+----------------+---------+---------------+---------------+---------------+---------------+---------------+---------------+---------------+---------------+----------+-----------------+-----------+---------------------------+\n",
            "|Rank|CCA3|Country       |Capital         |Continent|2022 Population|2020 Population|2015 Population|2010 Population|2000 Population|1990 Population|1980 Population|1970 Population|Area (km²)|Density (per km²)|Growth Rate|World Population Percentage|\n",
            "+----+----+--------------+----------------+---------+---------------+---------------+---------------+---------------+---------------+---------------+---------------+---------------+----------+-----------------+-----------+---------------------------+\n",
            "|36  |AFG |Afghanistan   |Kabul           |Asia     |41128771       |38972230       |33753499       |28189672       |19542982       |10694796       |12486631       |10752971       |652230    |63.0587          |1.0257     |0.52                       |\n",
            "|138 |ALB |Albania       |Tirana          |Europe   |2842321        |2866849        |2882481        |2913399        |3182021        |3295066        |2941651        |2324731        |28748     |98.8702          |0.9957     |0.04                       |\n",
            "|34  |DZA |Algeria       |Algiers         |Africa   |44903225       |43451666       |39543154       |35856344       |30774621       |25518074       |18739378       |13795915       |2381741   |18.8531          |1.0164     |0.56                       |\n",
            "|213 |ASM |American Samoa|Pago Pago       |Oceania  |44273          |46189          |51368          |54849          |58230          |47818          |32886          |27075          |199       |222.4774         |0.9831     |0.0                        |\n",
            "|203 |AND |Andorra       |Andorra la Vella|Europe   |79824          |77700          |71746          |71519          |66097          |53569          |35611          |19860          |468       |170.5641         |1.01       |0.0                        |\n",
            "+----+----+--------------+----------------+---------+---------------+---------------+---------------+---------------+---------------+---------------+---------------+---------------+----------+-----------------+-----------+---------------------------+\n",
            "only showing top 5 rows\n",
            "\n"
          ]
        }
      ],
      "source": [
        "df.show(5, truncate = False)  \n",
        "#for view downloaded dataset with some rows with their full name of any information(truncate=False er karone full name dekhabe) )"
      ]
    },
    {
      "cell_type": "code",
      "execution_count": 34,
      "metadata": {
        "colab": {
          "base_uri": "https://localhost:8080/"
        },
        "id": "8Ifr6W2fQ1F8",
        "outputId": "5b039a51-4ea5-459e-8bce-aac5fd0c8aa7"
      },
      "outputs": [
        {
          "output_type": "execute_result",
          "data": {
            "text/plain": [
              "['Rank',\n",
              " 'CCA3',\n",
              " 'Country',\n",
              " 'Capital',\n",
              " 'Continent',\n",
              " '2022 Population',\n",
              " '2020 Population',\n",
              " '2015 Population',\n",
              " '2010 Population',\n",
              " '2000 Population',\n",
              " '1990 Population',\n",
              " '1980 Population',\n",
              " '1970 Population',\n",
              " 'Area (km²)',\n",
              " 'Density (per km²)',\n",
              " 'Growth Rate',\n",
              " 'World Population Percentage']"
            ]
          },
          "metadata": {},
          "execution_count": 34
        }
      ],
      "source": [
        "df.columns        #for view all columns name"
      ]
    },
    {
      "cell_type": "code",
      "execution_count": 35,
      "metadata": {
        "colab": {
          "base_uri": "https://localhost:8080/"
        },
        "id": "wAayl0WnQ1U9",
        "outputId": "dc18f8c9-2425-40e7-8434-4a179365bafb"
      },
      "outputs": [
        {
          "output_type": "execute_result",
          "data": {
            "text/plain": [
              "[('Rank', 'int'),\n",
              " ('CCA3', 'string'),\n",
              " ('Country', 'string'),\n",
              " ('Capital', 'string'),\n",
              " ('Continent', 'string'),\n",
              " ('2022 Population', 'int'),\n",
              " ('2020 Population', 'int'),\n",
              " ('2015 Population', 'int'),\n",
              " ('2010 Population', 'int'),\n",
              " ('2000 Population', 'int'),\n",
              " ('1990 Population', 'int'),\n",
              " ('1980 Population', 'int'),\n",
              " ('1970 Population', 'int'),\n",
              " ('Area (km²)', 'int'),\n",
              " ('Density (per km²)', 'double'),\n",
              " ('Growth Rate', 'double'),\n",
              " ('World Population Percentage', 'double')]"
            ]
          },
          "metadata": {},
          "execution_count": 35
        }
      ],
      "source": [
        "df.dtypes        #for view all columns type"
      ]
    },
    {
      "cell_type": "code",
      "execution_count": 36,
      "metadata": {
        "colab": {
          "base_uri": "https://localhost:8080/"
        },
        "id": "fAB3xvFpQ1Xn",
        "outputId": "02a4d7d2-1dab-4fc9-e98a-23e481379c3e"
      },
      "outputs": [
        {
          "output_type": "stream",
          "name": "stdout",
          "text": [
            "root\n",
            " |-- Rank: integer (nullable = true)\n",
            " |-- CCA3: string (nullable = true)\n",
            " |-- Country: string (nullable = true)\n",
            " |-- Capital: string (nullable = true)\n",
            " |-- Continent: string (nullable = true)\n",
            " |-- 2022 Population: integer (nullable = true)\n",
            " |-- 2020 Population: integer (nullable = true)\n",
            " |-- 2015 Population: integer (nullable = true)\n",
            " |-- 2010 Population: integer (nullable = true)\n",
            " |-- 2000 Population: integer (nullable = true)\n",
            " |-- 1990 Population: integer (nullable = true)\n",
            " |-- 1980 Population: integer (nullable = true)\n",
            " |-- 1970 Population: integer (nullable = true)\n",
            " |-- Area (km²): integer (nullable = true)\n",
            " |-- Density (per km²): double (nullable = true)\n",
            " |-- Growth Rate: double (nullable = true)\n",
            " |-- World Population Percentage: double (nullable = true)\n",
            "\n"
          ]
        }
      ],
      "source": [
        "df.printSchema()        #for view the schema of datasets column"
      ]
    },
    {
      "cell_type": "code",
      "execution_count": 37,
      "metadata": {
        "colab": {
          "base_uri": "https://localhost:8080/"
        },
        "id": "gEFf51rZZeOd",
        "outputId": "4a558501-a79a-4e42-b166-c03da409e18e"
      },
      "outputs": [
        {
          "output_type": "stream",
          "name": "stdout",
          "text": [
            "234 17\n"
          ]
        }
      ],
      "source": [
        "row = df.count()\n",
        "col = len(df.columns)\n",
        "print(row,col)"
      ]
    },
    {
      "cell_type": "code",
      "execution_count": 38,
      "metadata": {
        "colab": {
          "base_uri": "https://localhost:8080/"
        },
        "id": "HuE1L00pV10C",
        "outputId": "0c559927-afe3-45e6-be89-961232233cf2"
      },
      "outputs": [
        {
          "output_type": "stream",
          "name": "stdout",
          "text": [
            "+--------------+---------------+---------------+---------------+---------------+---------------+---------------+---------------+---------------+\n",
            "|       Country|2022 Population|2020 Population|2015 Population|2010 Population|2000 Population|1990 Population|1980 Population|1970 Population|\n",
            "+--------------+---------------+---------------+---------------+---------------+---------------+---------------+---------------+---------------+\n",
            "|   Afghanistan|       41128771|       38972230|       33753499|       28189672|       19542982|       10694796|       12486631|       10752971|\n",
            "|       Albania|        2842321|        2866849|        2882481|        2913399|        3182021|        3295066|        2941651|        2324731|\n",
            "|       Algeria|       44903225|       43451666|       39543154|       35856344|       30774621|       25518074|       18739378|       13795915|\n",
            "|American Samoa|          44273|          46189|          51368|          54849|          58230|          47818|          32886|          27075|\n",
            "|       Andorra|          79824|          77700|          71746|          71519|          66097|          53569|          35611|          19860|\n",
            "+--------------+---------------+---------------+---------------+---------------+---------------+---------------+---------------+---------------+\n",
            "only showing top 5 rows\n",
            "\n"
          ]
        }
      ],
      "source": [
        "nedded_columns = df.select(\"Country\", \"2022 Population\", \"2020 Population\", \"2015 Population\", \"2010 Population\", \"2000 Population\", \"1990 Population\", \"1980 Population\", \"1970 Population\").show(5)"
      ]
    },
    {
      "cell_type": "code",
      "execution_count": 39,
      "metadata": {
        "id": "GBLk7LBUXnSD"
      },
      "outputs": [],
      "source": [
        "#df = df.withColumn('m', df['z'] / (df['y'] + df['z']))\n",
        "#df.head(2)"
      ]
    },
    {
      "cell_type": "markdown",
      "source": [
        "Adding a new column named as 2023_Population with predicted number of population in the last"
      ],
      "metadata": {
        "id": "UaXfymlqPF5n"
      }
    },
    {
      "cell_type": "code",
      "execution_count": 40,
      "metadata": {
        "id": "s2bdbFy1XnPl",
        "colab": {
          "base_uri": "https://localhost:8080/"
        },
        "outputId": "7d3759a6-7f03-41ff-9778-26d9b9a5ee49"
      },
      "outputs": [
        {
          "output_type": "execute_result",
          "data": {
            "text/plain": [
              "[Row(Rank=36, CCA3='AFG', Country='Afghanistan', Capital='Kabul', Continent='Asia', 2022 Population=41128771, 2020 Population=38972230, 2015 Population=33753499, 2010 Population=28189672, 2000 Population=19542982, 1990 Population=10694796, 1980 Population=12486631, 1970 Population=10752971, Area (km²)=652230, Density (per km²)=63.0587, Growth Rate=1.0257, World Population Percentage=0.52, 2023_population=41562711.0),\n",
              " Row(Rank=138, CCA3='ALB', Country='Albania', Capital='Tirana', Continent='Europe', 2022 Population=2842321, 2020 Population=2866849, 2015 Population=2882481, 2010 Population=2913399, 2000 Population=3182021, 1990 Population=3295066, 1980 Population=2941651, 1970 Population=2324731, Area (km²)=28748, Density (per km²)=98.8702, Growth Rate=0.9957, World Population Percentage=0.04, 2023_population=2849715.1428571427),\n",
              " Row(Rank=34, CCA3='DZA', Country='Algeria', Capital='Algiers', Continent='Africa', 2022 Population=44903225, 2020 Population=43451666, 2015 Population=39543154, 2010 Population=35856344, 2000 Population=30774621, 1990 Population=25518074, 1980 Population=18739378, 1970 Population=13795915, Area (km²)=2381741, Density (per km²)=18.8531, Growth Rate=1.0164, World Population Percentage=0.56, 2023_population=45347615.14285714),\n",
              " Row(Rank=213, CCA3='ASM', Country='American Samoa', Capital='Pago Pago', Continent='Oceania', 2022 Population=44273, 2020 Population=46189, 2015 Population=51368, 2010 Population=54849, 2000 Population=58230, 1990 Population=47818, 1980 Population=32886, 1970 Population=27075, Area (km²)=199, Density (per km²)=222.4774, Growth Rate=0.9831, World Population Percentage=0.0, 2023_population=44518.68571428571),\n",
              " Row(Rank=203, CCA3='AND', Country='Andorra', Capital='Andorra la Vella', Continent='Europe', 2022 Population=79824, 2020 Population=77700, 2015 Population=71746, 2010 Population=71519, 2000 Population=66097, 1990 Population=53569, 1980 Population=35611, 1970 Population=19860, Area (km²)=468, Density (per km²)=170.5641, Growth Rate=1.01, World Population Percentage=0.0, 2023_population=80680.62857142858)]"
            ]
          },
          "metadata": {},
          "execution_count": 40
        }
      ],
      "source": [
        "df = df.withColumn('2023_population',(((df['2022 Population']-df['2020 Population'])+(df['2020 Population']-df['2015 Population'])+(df['2015 Population']-df['2010 Population'])+(df['2010 Population']-df['2000 Population'])+(df['2000 Population']-df['1990 Population'])+(df['1990 Population']-df['1980 Population'])+(df['1980 Population']-df['1970 Population'])) / 7 ) * 0.1 + df['2022 Population'])\n",
        "df.head(5)"
      ]
    },
    {
      "cell_type": "markdown",
      "source": [
        "Adding a new column named as '2023_population_growthrate' with predicted growth rate of 2023 population from the last year 2022."
      ],
      "metadata": {
        "id": "t8b125yyZxhI"
      }
    },
    {
      "cell_type": "code",
      "source": [
        "df = df.withColumn('2023_population_growth-rate',(((df['2023_population']-df['2022 Population'])/df['2022 Population']) * 100) / 1)\n",
        "df.show(5)"
      ],
      "metadata": {
        "colab": {
          "base_uri": "https://localhost:8080/"
        },
        "id": "jNZl2MSkWdLB",
        "outputId": "42785827-075d-450a-bd3e-b1438da1cd15"
      },
      "execution_count": 41,
      "outputs": [
        {
          "output_type": "stream",
          "name": "stdout",
          "text": [
            "+----+----+--------------+----------------+---------+---------------+---------------+---------------+---------------+---------------+---------------+---------------+---------------+----------+-----------------+-----------+---------------------------+-------------------+---------------------------+\n",
            "|Rank|CCA3|       Country|         Capital|Continent|2022 Population|2020 Population|2015 Population|2010 Population|2000 Population|1990 Population|1980 Population|1970 Population|Area (km²)|Density (per km²)|Growth Rate|World Population Percentage|    2023_population|2023_population_growth-rate|\n",
            "+----+----+--------------+----------------+---------+---------------+---------------+---------------+---------------+---------------+---------------+---------------+---------------+----------+-----------------+-----------+---------------------------+-------------------+---------------------------+\n",
            "|  36| AFG|   Afghanistan|           Kabul|     Asia|       41128771|       38972230|       33753499|       28189672|       19542982|       10694796|       12486631|       10752971|    652230|          63.0587|     1.0257|                       0.52|        4.1562711E7|         1.0550765059330365|\n",
            "| 138| ALB|       Albania|          Tirana|   Europe|        2842321|        2866849|        2882481|        2913399|        3182021|        3295066|        2941651|        2324731|     28748|          98.8702|     0.9957|                       0.04| 2849715.1428571427|        0.26014453881678823|\n",
            "|  34| DZA|       Algeria|         Algiers|   Africa|       44903225|       43451666|       39543154|       35856344|       30774621|       25518074|       18739378|       13795915|   2381741|          18.8531|     1.0164|                       0.56|4.534761514285714E7|         0.9896619738496328|\n",
            "| 213| ASM|American Samoa|       Pago Pago|  Oceania|          44273|          46189|          51368|          54849|          58230|          47818|          32886|          27075|       199|         222.4774|     0.9831|                        0.0|  44518.68571428571|         0.5549335131699039|\n",
            "| 203| AND|       Andorra|Andorra la Vella|   Europe|          79824|          77700|          71746|          71519|          66097|          53569|          35611|          19860|       468|         170.5641|       1.01|                        0.0|  80680.62857142858|         1.0731466368868723|\n",
            "+----+----+--------------+----------------+---------+---------------+---------------+---------------+---------------+---------------+---------------+---------------+---------------+----------+-----------------+-----------+---------------------------+-------------------+---------------------------+\n",
            "only showing top 5 rows\n",
            "\n"
          ]
        }
      ]
    }
  ],
  "metadata": {
    "colab": {
      "provenance": []
    },
    "gpuClass": "standard",
    "kernelspec": {
      "display_name": "Python 3",
      "name": "python3"
    },
    "language_info": {
      "name": "python"
    }
  },
  "nbformat": 4,
  "nbformat_minor": 0
}