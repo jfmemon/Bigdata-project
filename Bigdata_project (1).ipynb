{
  "cells": [
    {
      "cell_type": "code",
      "execution_count": null,
      "metadata": {
        "colab": {
          "base_uri": "https://localhost:8080/"
        },
        "id": "qlAzi9tCMbQ5",
        "outputId": "fe47702d-8fc1-4008-8f0c-a52561c226a9"
      },
      "outputs": [
        {
          "output_type": "stream",
          "name": "stdout",
          "text": [
            "\r0% [Working]\r            \rHit:1 https://cloud.r-project.org/bin/linux/ubuntu bionic-cran40/ InRelease\n",
            "\r0% [Connecting to archive.ubuntu.com (185.125.190.39)] [Connecting to security.\r0% [1 InRelease gpgv 3,626 B] [Connecting to archive.ubuntu.com (185.125.190.39\r                                                                               \rHit:2 http://security.ubuntu.com/ubuntu bionic-security InRelease\n",
            "\r0% [1 InRelease gpgv 3,626 B] [Waiting for headers] [Waiting for headers] [Wait\r                                                                               \rHit:3 http://archive.ubuntu.com/ubuntu bionic InRelease\n",
            "\r                                                                               \rHit:4 http://ppa.launchpad.net/c2d4u.team/c2d4u4.0+/ubuntu bionic InRelease\n",
            "\r0% [1 InRelease gpgv 3,626 B] [Waiting for headers] [Waiting for headers] [Conn\r                                                                               \rIgn:5 https://developer.download.nvidia.com/compute/machine-learning/repos/ubuntu1804/x86_64  InRelease\n",
            "\r0% [1 InRelease gpgv 3,626 B] [Waiting for headers] [Waiting for headers] [Conn\r                                                                               \rHit:6 https://developer.download.nvidia.com/compute/cuda/repos/ubuntu1804/x86_64  InRelease\n",
            "\r0% [1 InRelease gpgv 3,626 B] [Waiting for headers] [Connecting to ppa.launchpa\r                                                                               \rHit:7 https://developer.download.nvidia.com/compute/machine-learning/repos/ubuntu1804/x86_64  Release\n",
            "Hit:8 http://archive.ubuntu.com/ubuntu bionic-updates InRelease\n",
            "Hit:9 http://ppa.launchpad.net/cran/libgit2/ubuntu bionic InRelease\n",
            "Hit:10 http://archive.ubuntu.com/ubuntu bionic-backports InRelease\n",
            "Hit:11 http://ppa.launchpad.net/deadsnakes/ppa/ubuntu bionic InRelease\n",
            "Hit:12 http://ppa.launchpad.net/graphics-drivers/ppa/ubuntu bionic InRelease\n",
            "Reading package lists... Done\n"
          ]
        }
      ],
      "source": [
        "!apt-get update             #for update full system to avoid any query"
      ]
    },
    {
      "cell_type": "code",
      "execution_count": null,
      "metadata": {
        "id": "vfL3JqLENCpo"
      },
      "outputs": [],
      "source": [
        "!apt-get install openjdk-8-jdk-headless -qq > /dev/null         #jvm version-8 install"
      ]
    },
    {
      "cell_type": "code",
      "execution_count": null,
      "metadata": {
        "id": "5a-LGrIeNC3O"
      },
      "outputs": [],
      "source": [
        " !wget -q http://archive.apache.org/dist/spark/spark-3.1.1/spark-3.1.1-bin-hadoop3.2.tgz         #for apache spark with Hadoop install"
      ]
    },
    {
      "cell_type": "code",
      "execution_count": null,
      "metadata": {
        "id": "L8o1GJRmNDre"
      },
      "outputs": [],
      "source": [
        "!tar xf spark-3.1.1-bin-hadoop3.2.tgz           #for extract the file which was with Hadoop"
      ]
    },
    {
      "cell_type": "code",
      "execution_count": null,
      "metadata": {
        "id": "otZi6A4yNDuA"
      },
      "outputs": [],
      "source": [
        "!pip install -q findspark             #for install findspark module"
      ]
    },
    {
      "cell_type": "code",
      "execution_count": null,
      "metadata": {
        "id": "-yLSNmDcOgkf"
      },
      "outputs": [],
      "source": [
        "import os\n",
        "os.environ[\"JAVA_HOME\"] = \"/usr/lib/jvm/java-8-openjdk-amd64\"\n",
        "os.environ[\"SPARK_HOME\"] = \"/content/spark-3.1.1-bin-hadoop3.2\"\n",
        "\n",
        "#environment setup for Java & Spark )"
      ]
    },
    {
      "cell_type": "code",
      "execution_count": null,
      "metadata": {
        "colab": {
          "base_uri": "https://localhost:8080/",
          "height": 219
        },
        "id": "NYWvAijAOgn0",
        "outputId": "40f7e0b2-c753-48c9-b923-166fb55ad979"
      },
      "outputs": [
        {
          "output_type": "execute_result",
          "data": {
            "text/plain": [
              "<pyspark.sql.session.SparkSession at 0x7efcb56d9220>"
            ],
            "text/html": [
              "\n",
              "            <div>\n",
              "                <p><b>SparkSession - in-memory</b></p>\n",
              "                \n",
              "        <div>\n",
              "            <p><b>SparkContext</b></p>\n",
              "\n",
              "            <p><a href=\"http://2e375d0b84d6:4040\">Spark UI</a></p>\n",
              "\n",
              "            <dl>\n",
              "              <dt>Version</dt>\n",
              "                <dd><code>v3.1.1</code></dd>\n",
              "              <dt>Master</dt>\n",
              "                <dd><code>local</code></dd>\n",
              "              <dt>AppName</dt>\n",
              "                <dd><code>pyspark-shell</code></dd>\n",
              "            </dl>\n",
              "        </div>\n",
              "        \n",
              "            </div>\n",
              "        "
            ]
          },
          "metadata": {},
          "execution_count": 85
        }
      ],
      "source": [
        "import findspark\n",
        "findspark.init()\n",
        "from pyspark.sql import SparkSession\n",
        "from pyspark.sql import functions as F\n",
        "spark = SparkSession.builder.master(\"local\").getOrCreate()\n",
        "spark   #just for showing version,master_name, app_name etc \n",
        "\n",
        "#get(jodi thake) or create spark session for doing action with dataset, erpor dataset load kora charao aro anushongik kaj kora jabe"
      ]
    },
    {
      "cell_type": "code",
      "execution_count": null,
      "metadata": {
        "colab": {
          "base_uri": "https://localhost:8080/"
        },
        "id": "KcWw7ef3Ogqm",
        "outputId": "fb52a981-5c3a-47ca-dc58-75ca0a80ac9a"
      },
      "outputs": [
        {
          "output_type": "stream",
          "name": "stdout",
          "text": [
            "--2022-12-05 07:27:44--  https://raw.githubusercontent.com/jfmemon/Bigdata-project/main/world_population.csv\n",
            "Resolving raw.githubusercontent.com (raw.githubusercontent.com)... 185.199.108.133, 185.199.109.133, 185.199.110.133, ...\n",
            "Connecting to raw.githubusercontent.com (raw.githubusercontent.com)|185.199.108.133|:443... connected.\n",
            "HTTP request sent, awaiting response... 200 OK\n",
            "Length: 29237 (29K) [text/plain]\n",
            "Saving to: ‘world_population.csv.3’\n",
            "\n",
            "\rworld_population.cs   0%[                    ]       0  --.-KB/s               \rworld_population.cs 100%[===================>]  28.55K  --.-KB/s    in 0s      \n",
            "\n",
            "2022-12-05 07:27:44 (122 MB/s) - ‘world_population.csv.3’ saved [29237/29237]\n",
            "\n"
          ]
        }
      ],
      "source": [
        "!wget https://raw.githubusercontent.com/jfmemon/Bigdata-project/main/world_population.csv      #dataset raw link of github"
      ]
    },
    {
      "cell_type": "code",
      "execution_count": null,
      "metadata": {
        "id": "DUthd07gOgtU"
      },
      "outputs": [],
      "source": [
        "df = spark.read.csv(\"world_population.csv\", sep=\",\", header = True, inferSchema=True)\n",
        "\n",
        "#read downloaded csv file and put into variable df, header = True mane holo- jate 1st row take data na baniye header banay , inferSchema = True mane holo- jokhon columns type dekhte cabo tokhon exact type show korbe "
      ]
    },
    {
      "cell_type": "code",
      "execution_count": null,
      "metadata": {
        "colab": {
          "base_uri": "https://localhost:8080/"
        },
        "id": "ElJmHro8Ogv1",
        "outputId": "37ea7566-2d80-4ce3-f318-575f34deeec6"
      },
      "outputs": [
        {
          "output_type": "stream",
          "name": "stdout",
          "text": [
            "+----+----+--------------+----------------+---------+---------------+---------------+---------------+---------------+---------------+---------------+---------------+---------------+----------+-----------------+-----------+---------------------------+\n",
            "|Rank|CCA3|Country       |Capital         |Continent|2022 Population|2020 Population|2015 Population|2010 Population|2000 Population|1990 Population|1980 Population|1970 Population|Area (km²)|Density (per km²)|Growth Rate|World Population Percentage|\n",
            "+----+----+--------------+----------------+---------+---------------+---------------+---------------+---------------+---------------+---------------+---------------+---------------+----------+-----------------+-----------+---------------------------+\n",
            "|36  |AFG |Afghanistan   |Kabul           |Asia     |41128771       |38972230       |33753499       |28189672       |19542982       |10694796       |12486631       |10752971       |652230    |63.0587          |1.0257     |0.52                       |\n",
            "|138 |ALB |Albania       |Tirana          |Europe   |2842321        |2866849        |2882481        |2913399        |3182021        |3295066        |2941651        |2324731        |28748     |98.8702          |0.9957     |0.04                       |\n",
            "|34  |DZA |Algeria       |Algiers         |Africa   |44903225       |43451666       |39543154       |35856344       |30774621       |25518074       |18739378       |13795915       |2381741   |18.8531          |1.0164     |0.56                       |\n",
            "|213 |ASM |American Samoa|Pago Pago       |Oceania  |44273          |46189          |51368          |54849          |58230          |47818          |32886          |27075          |199       |222.4774         |0.9831     |0.0                        |\n",
            "|203 |AND |Andorra       |Andorra la Vella|Europe   |79824          |77700          |71746          |71519          |66097          |53569          |35611          |19860          |468       |170.5641         |1.01       |0.0                        |\n",
            "+----+----+--------------+----------------+---------+---------------+---------------+---------------+---------------+---------------+---------------+---------------+---------------+----------+-----------------+-----------+---------------------------+\n",
            "only showing top 5 rows\n",
            "\n"
          ]
        }
      ],
      "source": [
        "df.show(5, truncate = False)  \n",
        "#for view downloaded dataset with some rows with their full name of any information(truncate=False er karone full name dekhabe) )"
      ]
    },
    {
      "cell_type": "code",
      "execution_count": null,
      "metadata": {
        "colab": {
          "base_uri": "https://localhost:8080/"
        },
        "id": "8Ifr6W2fQ1F8",
        "outputId": "158ab8fb-22ec-4893-f06e-1ef0e712bdbe"
      },
      "outputs": [
        {
          "output_type": "execute_result",
          "data": {
            "text/plain": [
              "['Rank',\n",
              " 'CCA3',\n",
              " 'Country',\n",
              " 'Capital',\n",
              " 'Continent',\n",
              " '2022 Population',\n",
              " '2020 Population',\n",
              " '2015 Population',\n",
              " '2010 Population',\n",
              " '2000 Population',\n",
              " '1990 Population',\n",
              " '1980 Population',\n",
              " '1970 Population',\n",
              " 'Area (km²)',\n",
              " 'Density (per km²)',\n",
              " 'Growth Rate',\n",
              " 'World Population Percentage']"
            ]
          },
          "metadata": {},
          "execution_count": 89
        }
      ],
      "source": [
        "df.columns        #for view all columns name"
      ]
    },
    {
      "cell_type": "code",
      "execution_count": null,
      "metadata": {
        "colab": {
          "base_uri": "https://localhost:8080/"
        },
        "id": "wAayl0WnQ1U9",
        "outputId": "26a5ae00-1171-4429-901c-a02ab3b3aee6"
      },
      "outputs": [
        {
          "data": {
            "text/plain": [
              "[('Rank', 'int'),\n",
              " ('CCA3', 'string'),\n",
              " ('Country', 'string'),\n",
              " ('Capital', 'string'),\n",
              " ('Continent', 'string'),\n",
              " ('2022 Population', 'int'),\n",
              " ('2020 Population', 'int'),\n",
              " ('2015 Population', 'int'),\n",
              " ('2010 Population', 'int'),\n",
              " ('2000 Population', 'int'),\n",
              " ('1990 Population', 'int'),\n",
              " ('1980 Population', 'int'),\n",
              " ('1970 Population', 'int'),\n",
              " ('Area (km²)', 'int'),\n",
              " ('Density (per km²)', 'double'),\n",
              " ('Growth Rate', 'double'),\n",
              " ('World Population Percentage', 'double')]"
            ]
          },
          "execution_count": 90,
          "metadata": {},
          "output_type": "execute_result"
        }
      ],
      "source": [
        "df.dtypes        #for view all columns type"
      ]
    },
    {
      "cell_type": "code",
      "execution_count": null,
      "metadata": {
        "colab": {
          "base_uri": "https://localhost:8080/"
        },
        "id": "fAB3xvFpQ1Xn",
        "outputId": "f6adfea4-519d-46d9-8b8c-304b31bcb51c"
      },
      "outputs": [
        {
          "output_type": "stream",
          "name": "stdout",
          "text": [
            "root\n",
            " |-- Rank: integer (nullable = true)\n",
            " |-- CCA3: string (nullable = true)\n",
            " |-- Country: string (nullable = true)\n",
            " |-- Capital: string (nullable = true)\n",
            " |-- Continent: string (nullable = true)\n",
            " |-- 2022 Population: integer (nullable = true)\n",
            " |-- 2020 Population: integer (nullable = true)\n",
            " |-- 2015 Population: integer (nullable = true)\n",
            " |-- 2010 Population: integer (nullable = true)\n",
            " |-- 2000 Population: integer (nullable = true)\n",
            " |-- 1990 Population: integer (nullable = true)\n",
            " |-- 1980 Population: integer (nullable = true)\n",
            " |-- 1970 Population: integer (nullable = true)\n",
            " |-- Area (km²): integer (nullable = true)\n",
            " |-- Density (per km²): double (nullable = true)\n",
            " |-- Growth Rate: double (nullable = true)\n",
            " |-- World Population Percentage: double (nullable = true)\n",
            "\n"
          ]
        }
      ],
      "source": [
        "df.printSchema()        #for view the schema of datasets column"
      ]
    },
    {
      "cell_type": "code",
      "execution_count": null,
      "metadata": {
        "colab": {
          "base_uri": "https://localhost:8080/"
        },
        "id": "gEFf51rZZeOd",
        "outputId": "9341a6c5-71a7-4919-cc52-f99bc19efac6"
      },
      "outputs": [
        {
          "output_type": "stream",
          "name": "stdout",
          "text": [
            "234 17\n"
          ]
        }
      ],
      "source": [
        "row = df.count()\n",
        "col = len(df.columns)\n",
        "print(row,col)"
      ]
    },
    {
      "cell_type": "code",
      "execution_count": null,
      "metadata": {
        "colab": {
          "base_uri": "https://localhost:8080/"
        },
        "id": "HuE1L00pV10C",
        "outputId": "611a5c54-5d4f-44b3-fc34-800dd5f2a101"
      },
      "outputs": [
        {
          "output_type": "stream",
          "name": "stdout",
          "text": [
            "+--------------+---------------+---------------+---------------+---------------+---------------+---------------+---------------+---------------+\n",
            "|       Country|2022 Population|2020 Population|2015 Population|2010 Population|2000 Population|1990 Population|1980 Population|1970 Population|\n",
            "+--------------+---------------+---------------+---------------+---------------+---------------+---------------+---------------+---------------+\n",
            "|   Afghanistan|       41128771|       38972230|       33753499|       28189672|       19542982|       10694796|       12486631|       10752971|\n",
            "|       Albania|        2842321|        2866849|        2882481|        2913399|        3182021|        3295066|        2941651|        2324731|\n",
            "|       Algeria|       44903225|       43451666|       39543154|       35856344|       30774621|       25518074|       18739378|       13795915|\n",
            "|American Samoa|          44273|          46189|          51368|          54849|          58230|          47818|          32886|          27075|\n",
            "|       Andorra|          79824|          77700|          71746|          71519|          66097|          53569|          35611|          19860|\n",
            "+--------------+---------------+---------------+---------------+---------------+---------------+---------------+---------------+---------------+\n",
            "only showing top 5 rows\n",
            "\n"
          ]
        }
      ],
      "source": [
        "nedded_columns = df.select(\"Country\", \"2022 Population\", \"2020 Population\", \"2015 Population\", \"2010 Population\", \"2000 Population\", \"1990 Population\", \"1980 Population\", \"1970 Population\").show(5)"
      ]
    },
    {
      "cell_type": "code",
      "execution_count": null,
      "metadata": {
        "id": "GBLk7LBUXnSD"
      },
      "outputs": [],
      "source": [
        "#df = df.withColumn('m', df['z'] / (df['y'] + df['z']))\n",
        "#df.head(2)"
      ]
    },
    {
      "cell_type": "markdown",
      "source": [
        "Adding a new column named as 2023_Population with predicted number of population in the last"
      ],
      "metadata": {
        "id": "UaXfymlqPF5n"
      }
    },
    {
      "cell_type": "code",
      "execution_count": null,
      "metadata": {
        "id": "s2bdbFy1XnPl",
        "colab": {
          "base_uri": "https://localhost:8080/"
        },
        "outputId": "33d1d057-0562-40e2-c7c2-3c79d8ab6d2f"
      },
      "outputs": [
        {
          "output_type": "execute_result",
          "data": {
            "text/plain": [
              "[Row(Rank=36, CCA3='AFG', Country='Afghanistan', Capital='Kabul', Continent='Asia', 2022 Population=41128771, 2020 Population=38972230, 2015 Population=33753499, 2010 Population=28189672, 2000 Population=19542982, 1990 Population=10694796, 1980 Population=12486631, 1970 Population=10752971, Area (km²)=652230, Density (per km²)=63.0587, Growth Rate=1.0257, World Population Percentage=0.52, 2023_population=41562711.0),\n",
              " Row(Rank=138, CCA3='ALB', Country='Albania', Capital='Tirana', Continent='Europe', 2022 Population=2842321, 2020 Population=2866849, 2015 Population=2882481, 2010 Population=2913399, 2000 Population=3182021, 1990 Population=3295066, 1980 Population=2941651, 1970 Population=2324731, Area (km²)=28748, Density (per km²)=98.8702, Growth Rate=0.9957, World Population Percentage=0.04, 2023_population=2849715.1428571427),\n",
              " Row(Rank=34, CCA3='DZA', Country='Algeria', Capital='Algiers', Continent='Africa', 2022 Population=44903225, 2020 Population=43451666, 2015 Population=39543154, 2010 Population=35856344, 2000 Population=30774621, 1990 Population=25518074, 1980 Population=18739378, 1970 Population=13795915, Area (km²)=2381741, Density (per km²)=18.8531, Growth Rate=1.0164, World Population Percentage=0.56, 2023_population=45347615.14285714),\n",
              " Row(Rank=213, CCA3='ASM', Country='American Samoa', Capital='Pago Pago', Continent='Oceania', 2022 Population=44273, 2020 Population=46189, 2015 Population=51368, 2010 Population=54849, 2000 Population=58230, 1990 Population=47818, 1980 Population=32886, 1970 Population=27075, Area (km²)=199, Density (per km²)=222.4774, Growth Rate=0.9831, World Population Percentage=0.0, 2023_population=44518.68571428571),\n",
              " Row(Rank=203, CCA3='AND', Country='Andorra', Capital='Andorra la Vella', Continent='Europe', 2022 Population=79824, 2020 Population=77700, 2015 Population=71746, 2010 Population=71519, 2000 Population=66097, 1990 Population=53569, 1980 Population=35611, 1970 Population=19860, Area (km²)=468, Density (per km²)=170.5641, Growth Rate=1.01, World Population Percentage=0.0, 2023_population=80680.62857142858)]"
            ]
          },
          "metadata": {},
          "execution_count": 100
        }
      ],
      "source": [
        "df = df.withColumn('2023_population',(((df['2022 Population']-df['2020 Population'])+(df['2020 Population']-df['2015 Population'])+(df['2015 Population']-df['2010 Population'])+(df['2010 Population']-df['2000 Population'])+(df['2000 Population']-df['1990 Population'])+(df['1990 Population']-df['1980 Population'])+(df['1980 Population']-df['1970 Population'])) / 7 ) * 0.1 + df['2022 Population'])\n",
        "df.head(5)"
      ]
    }
  ],
  "metadata": {
    "colab": {
      "provenance": []
    },
    "gpuClass": "standard",
    "kernelspec": {
      "display_name": "Python 3",
      "name": "python3"
    },
    "language_info": {
      "name": "python"
    }
  },
  "nbformat": 4,
  "nbformat_minor": 0
}